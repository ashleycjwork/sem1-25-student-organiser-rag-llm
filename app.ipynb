{
 "cells": [
  {
   "cell_type": "code",
   "execution_count": null,
   "id": "bd346b3c-11d2-4f42-ab61-25e8859b9e1c",
   "metadata": {},
   "outputs": [],
   "source": []
  }
 ],
 "metadata": {
  "kernelspec": {
   "display_name": "",
   "name": ""
  },
  "language_info": {
   "name": ""
  }
 },
 "nbformat": 4,
 "nbformat_minor": 5
}
