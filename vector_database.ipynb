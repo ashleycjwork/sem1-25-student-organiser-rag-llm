{
 "cells": [
  {
   "cell_type": "code",
   "execution_count": null,
   "id": "add513ea",
   "metadata": {},
   "outputs": [],
   "source": [
    "import json\n",
    "from langchain_huggingface import HuggingFaceEmbeddings\n",
    "from langchain_chroma import Chroma\n",
    "\n",
    "# Open the JSON file\n",
    "with open(\"aggregated_data.json\", \"r\") as f:\n",
    "    all_data = json.load(f)\n",
    "\n",
    "# Initialize embedding model \"all-MiniLM-L6-v2\"\n",
    "embedding_model = HuggingFaceEmbeddings(model_name=\"all-MiniLM-L6-v2\")\n",
    "\n",
    "# Prepare documents and metadata\n",
    "documents = [item[\"content\"] for item in all_data] # Create list of all the 'content'\n",
    "\n",
    "metadatas = [{\n",
    "    \"title\": item.get(\"title\", \"Untitled\"), \n",
    "    \"topic\": item.get(\"topic\", \"No topic\"), \n",
    "    \"keywords\": \", \".join(item.get(\"keywords\", [])), \n",
    "    \"source\": item.get(\"source\", \"Unknown\")\n",
    "} for item in all_data] # Create list of all metadata\n",
    "\n",
    "ids = [f\"doc_{i}\" for i in range(len(all_data))] # Create list of unique ids for each document\n",
    "\n",
    "# Create vector store\n",
    "vector_store = Chroma.from_texts(\n",
    "    texts=documents,           # The text content from the documents\n",
    "    embedding=embedding_model,  # The HuggingFace embeddings model\n",
    "    metadatas=metadatas,       # The metadata associated with each document\n",
    "    ids=ids,                   # Unique IDs for each document\n",
    "    persist_directory=\"./chroma_db\"  # Directory to save the persistent Chroma database\n",
    ")\n"
   ]
  }
 ],
 "metadata": {
  "kernelspec": {
   "display_name": "Python 3 (ipykernel)",
   "language": "python",
   "name": "python3"
  },
  "language_info": {
   "codemirror_mode": {
    "name": "ipython",
    "version": 3
   },
   "file_extension": ".py",
   "mimetype": "text/x-python",
   "name": "python",
   "nbconvert_exporter": "python",
   "pygments_lexer": "ipython3",
   "version": "3.12.7"
  }
 },
 "nbformat": 4,
 "nbformat_minor": 5
}
