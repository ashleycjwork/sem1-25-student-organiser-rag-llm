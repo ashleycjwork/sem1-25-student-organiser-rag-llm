{
 "cells": [
  {
   "cell_type": "code",
   "execution_count": null,
   "id": "327b9035",
   "metadata": {},
   "outputs": [],
   "source": [
    "import json\n",
    "\n",
    "# Open JSON files\n",
    "with open(\"aggregated_data.json\", \"r\") as f:\n",
    "    web_data = json.load(f)\n",
    "\n",
    "with open(\"pdf_data.json\", \"r\") as f:\n",
    "    pdf_data = json.load(f)\n",
    "\n",
    "# Merge web data and PDF data\n",
    "all_data = web_data + pdf_data\n",
    "\n",
    "# Convert into JSON file\n",
    "with open(\"all_data.json\", \"w\") as f:\n",
    "    json.dump(all_data, f, indent=4)"
   ]
  }
 ],
 "metadata": {
  "language_info": {
   "name": "python"
  }
 },
 "nbformat": 4,
 "nbformat_minor": 5
}
